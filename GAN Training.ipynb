{
  "cells": [
    {
      "cell_type": "code",
      "execution_count": 2,
      "metadata": {
        "id": "RBViurPvU0DW"
      },
      "outputs": [],
      "source": [
        "import tensorflow as tf\n",
        "import numpy as np\n",
        "import matplotlib.pyplot as plt\n",
        "from google.colab import drive\n",
        "import os\n",
        "from PIL import Image\n",
        "from tqdm import tqdm"
      ]
    },
    {
      "cell_type": "code",
      "execution_count": null,
      "metadata": {
        "colab": {
          "base_uri": "https://localhost:8080/",
          "height": 0
        },
        "id": "h3vfKXcIW--i",
        "outputId": "1201404c-f942-4add-a04f-018a2e598180"
      },
      "outputs": [],
      "source": [
        "# Mount Google Drive\n",
        "drive.mount('/content/drive')\n",
        "\n",
        "# Set up the path to your image folder in Google Drive\n",
        "IMAGE_FOLDER = '/content/drive/MyDrive/Path-to-the-data'"
      ]
    },
    {
      "cell_type": "code",
      "execution_count": 4,
      "metadata": {
        "id": "IqtIJd-tXFiZ"
      },
      "outputs": [],
      "source": [
        "# Image parameters\n",
        "IMG_HEIGHT = 32\n",
        "IMG_WIDTH = 32\n",
        "CHANNELS = 3\n",
        "\n",
        "# Model parameters\n",
        "LATENT_DIM = 100\n",
        "BATCH_SIZE = 64"
      ]
    },
    {
      "cell_type": "code",
      "execution_count": null,
      "metadata": {
        "colab": {
          "base_uri": "https://localhost:8080/",
          "height": 0
        },
        "id": "mgXGuB_HXI5p",
        "outputId": "0d8c25ac-5be8-4fb4-f337-5784d616406c"
      },
      "outputs": [],
      "source": [
        "# Load and preprocess images\n",
        "def load_images(folder_path):\n",
        "    images = []\n",
        "    for filename in tqdm(os.listdir(folder_path)):\n",
        "        if filename.lower().endswith(('.png', '.jpg', '.jpeg')):\n",
        "            img_path = os.path.join(folder_path, filename)\n",
        "            img = Image.open(img_path).resize((IMG_WIDTH, IMG_HEIGHT))\n",
        "            img_array = np.array(img) / 127.5 - 1  # Normalize to [-1, 1]\n",
        "            images.append(img_array)\n",
        "    return np.array(images)\n",
        "\n",
        "# Load images\n",
        "images = load_images(IMAGE_FOLDER)\n",
        "print(f\"Loaded {len(images)} images.\")"
      ]
    },
    {
      "cell_type": "code",
      "execution_count": 6,
      "metadata": {
        "id": "bIIClb0AXPra"
      },
      "outputs": [],
      "source": [
        "# Create tf.data.Dataset\n",
        "dataset = tf.data.Dataset.from_tensor_slices(images).shuffle(len(images)).batch(BATCH_SIZE)"
      ]
    },
    {
      "cell_type": "code",
      "execution_count": 7,
      "metadata": {
        "id": "rGv_e2MXXS0l"
      },
      "outputs": [],
      "source": [
        "def make_generator_model():\n",
        "    model = tf.keras.Sequential([\n",
        "        tf.keras.layers.Dense(4*4*256, use_bias=False, input_shape=(LATENT_DIM,)),\n",
        "        tf.keras.layers.BatchNormalization(),\n",
        "        tf.keras.layers.LeakyReLU(),\n",
        "\n",
        "        tf.keras.layers.Reshape((4, 4, 256)),\n",
        "\n",
        "        tf.keras.layers.Conv2DTranspose(128, (5, 5), strides=(2, 2), padding='same', use_bias=False),\n",
        "        tf.keras.layers.BatchNormalization(),\n",
        "        tf.keras.layers.LeakyReLU(),\n",
        "\n",
        "        tf.keras.layers.Conv2DTranspose(64, (5, 5), strides=(2, 2), padding='same', use_bias=False),\n",
        "        tf.keras.layers.BatchNormalization(),\n",
        "        tf.keras.layers.LeakyReLU(),\n",
        "\n",
        "        tf.keras.layers.Conv2DTranspose(CHANNELS, (5, 5), strides=(2, 2), padding='same', use_bias=False, activation='tanh')\n",
        "    ])\n",
        "    return model"
      ]
    },
    {
      "cell_type": "code",
      "execution_count": 8,
      "metadata": {
        "id": "vxEe6ZDlXYMy"
      },
      "outputs": [],
      "source": [
        "# Discriminator model\n",
        "def make_discriminator_model():\n",
        "    model = tf.keras.Sequential([\n",
        "        tf.keras.layers.Conv2D(64, (5, 5), strides=(2, 2), padding='same', input_shape=[IMG_HEIGHT, IMG_WIDTH, CHANNELS]),\n",
        "        tf.keras.layers.LeakyReLU(),\n",
        "        tf.keras.layers.Dropout(0.3),\n",
        "\n",
        "        tf.keras.layers.Conv2D(128, (5, 5), strides=(2, 2), padding='same'),\n",
        "        tf.keras.layers.LeakyReLU(),\n",
        "        tf.keras.layers.Dropout(0.3),\n",
        "\n",
        "        tf.keras.layers.Flatten(),\n",
        "        tf.keras.layers.Dense(1)\n",
        "    ])\n",
        "    return model"
      ]
    },
    {
      "cell_type": "code",
      "execution_count": null,
      "metadata": {
        "colab": {
          "base_uri": "https://localhost:8080/",
          "height": 0
        },
        "id": "iZoV4ZR2XZLz",
        "outputId": "1241304c-e9d0-44f9-cbe6-f53d6d3fa42e"
      },
      "outputs": [],
      "source": [
        "# Create models\n",
        "generator = make_generator_model()\n",
        "discriminator = make_discriminator_model()\n",
        "\n",
        "# Define loss functions\n",
        "cross_entropy = tf.keras.losses.BinaryCrossentropy(from_logits=True)\n",
        "\n",
        "def discriminator_loss(real_output, fake_output):\n",
        "    real_loss = cross_entropy(tf.ones_like(real_output), real_output)\n",
        "    fake_loss = cross_entropy(tf.zeros_like(fake_output), fake_output)\n",
        "    total_loss = real_loss + fake_loss\n",
        "    return total_loss\n",
        "\n",
        "def generator_loss(fake_output):\n",
        "    return cross_entropy(tf.ones_like(fake_output), fake_output)\n",
        "\n",
        "# Define optimizers\n",
        "generator_optimizer = tf.keras.optimizers.Adam(1e-4)\n",
        "discriminator_optimizer = tf.keras.optimizers.Adam(1e-4)"
      ]
    },
    {
      "cell_type": "code",
      "execution_count": 10,
      "metadata": {
        "id": "UyH21amdXdjM"
      },
      "outputs": [],
      "source": [
        "# Training step\n",
        "@tf.function\n",
        "def train_step(images):\n",
        "    noise = tf.random.normal([BATCH_SIZE, LATENT_DIM])\n",
        "\n",
        "    with tf.GradientTape() as gen_tape, tf.GradientTape() as disc_tape:\n",
        "        generated_images = generator(noise, training=True)\n",
        "\n",
        "        real_output = discriminator(images, training=True)\n",
        "        fake_output = discriminator(generated_images, training=True)\n",
        "\n",
        "        gen_loss = generator_loss(fake_output)\n",
        "        disc_loss = discriminator_loss(real_output, fake_output)\n",
        "\n",
        "    gradients_of_generator = gen_tape.gradient(gen_loss, generator.trainable_variables)\n",
        "    gradients_of_discriminator = disc_tape.gradient(disc_loss, discriminator.trainable_variables)\n",
        "\n",
        "    generator_optimizer.apply_gradients(zip(gradients_of_generator, generator.trainable_variables))\n",
        "    discriminator_optimizer.apply_gradients(zip(gradients_of_discriminator, discriminator.trainable_variables))\n",
        "\n",
        "    return gen_loss, disc_loss"
      ]
    },
    {
      "cell_type": "code",
      "execution_count": 11,
      "metadata": {
        "id": "NGPI5c9YXl5Z"
      },
      "outputs": [],
      "source": [
        "# Training loop\n",
        "def train(dataset, epochs):\n",
        "    for epoch in range(epochs):\n",
        "        for image_batch in dataset:\n",
        "            gen_loss, disc_loss = train_step(image_batch)\n",
        "\n",
        "        # Print losses every 10 epochs\n",
        "        if (epoch + 1) % 10 == 0:\n",
        "            print(f\"Epoch {epoch+1}, Gen Loss: {gen_loss:.4f}, Disc Loss: {disc_loss:.4f}\")\n",
        "\n",
        "        # Generate and save images every 50 epochs\n",
        "        if (epoch + 1) % 50 == 0:\n",
        "            generate_and_save_images(generator, epoch + 1)\n"
      ]
    },
    {
      "cell_type": "code",
      "execution_count": null,
      "metadata": {
        "colab": {
          "base_uri": "https://localhost:8080/",
          "height": 0
        },
        "id": "aLpd2Pl8Xpag",
        "outputId": "eba5f25a-980a-408f-e28a-735f121ee402"
      },
      "outputs": [],
      "source": [
        "# Generate and save images\n",
        "def generate_and_save_images(model, epoch):\n",
        "    test_input = tf.random.normal([16, LATENT_DIM])\n",
        "    predictions = model(test_input, training=False)\n",
        "\n",
        "    fig = plt.figure(figsize=(4, 4))\n",
        "    for i in range(predictions.shape[0]):\n",
        "        plt.subplot(4, 4, i+1)\n",
        "        plt.imshow((predictions[i, :, :, :] * 0.5 + 0.5))  # Scale back to [0, 1]\n",
        "        plt.axis('off')\n",
        "\n",
        "    plt.savefig(f'/content/drive/MyDrive/gan_output/image_at_epoch_{epoch:04d}.png')\n",
        "    plt.close()\n",
        "\n",
        "# Create output directory\n",
        "os.makedirs('/content/drive/MyDrive/gan_output', exist_ok=True)\n",
        "\n",
        "# Train the model\n",
        "EPOCHS = 3000 # This number can be optional\n",
        "train(dataset, EPOCHS)"
      ]
    }
  ],
  "metadata": {
    "colab": {
      "provenance": []
    },
    "kernelspec": {
      "display_name": "Python 3",
      "name": "python3"
    },
    "language_info": {
      "name": "python"
    }
  },
  "nbformat": 4,
  "nbformat_minor": 0
}
